{
 "cells": [
  {
   "cell_type": "markdown",
   "id": "abe68a76-6c1e-4da7-a1bc-dc84a5dd0ae7",
   "metadata": {},
   "source": [
    "#If 语句"
   ]
  },
  {
   "cell_type": "code",
   "execution_count": 2,
   "id": "f7ac97f4-f114-49a6-995d-3e0099b262e9",
   "metadata": {},
   "outputs": [
    {
     "name": "stdout",
     "output_type": "stream",
     "text": [
      "Audi\n",
      "BMW\n",
      "Subaru\n",
      "Toyota\n"
     ]
    }
   ],
   "source": [
    "cars = ['audi', 'bmw', 'subaru', 'toyota']\n",
    "for car in cars:\n",
    "    if car == 'bmw':\n",
    "        print(car.upper())\n",
    "    else:\n",
    "        print(car.title())"
   ]
  },
  {
   "cell_type": "markdown",
   "id": "1a967577-f375-428b-b173-29a379a2b869",
   "metadata": {},
   "source": [
    "##比较数字"
   ]
  },
  {
   "cell_type": "code",
   "execution_count": 8,
   "id": "02166832-141b-4a71-853f-8c7d417ce805",
   "metadata": {},
   "outputs": [
    {
     "data": {
      "text/plain": [
       "False"
      ]
     },
     "execution_count": 8,
     "metadata": {},
     "output_type": "execute_result"
    }
   ],
   "source": [
    "age_0 = 22\n",
    "age_1 = 18\n",
    "age_0 >= 21 and age_1 >=21"
   ]
  },
  {
   "cell_type": "code",
   "execution_count": 7,
   "id": "8a9e96a1-a1b3-41d1-9676-93fbdbd6634f",
   "metadata": {},
   "outputs": [
    {
     "data": {
      "text/plain": [
       "True"
      ]
     },
     "execution_count": 7,
     "metadata": {},
     "output_type": "execute_result"
    }
   ],
   "source": [
    "age_0 >21 or age_1>=21"
   ]
  },
  {
   "cell_type": "code",
   "execution_count": 16,
   "id": "b76bc4b4-810a-4944-b413-b2f24d4f3efe",
   "metadata": {},
   "outputs": [
    {
     "name": "stdout",
     "output_type": "stream",
     "text": [
      "恭喜你获得5点积分，你现在的积分总和为: 5\n",
      "抱歉你未获得积分\n"
     ]
    }
   ],
   "source": [
    "#外星人颜色\n",
    "alien_color = 'green'\n",
    "player_cells = 0\n",
    "if alien_color == 'green':\n",
    "    player_cells += 5\n",
    "    print(\"恭喜你获得5点积分，你现在的积分总和为:\",player_cells)\n",
    "print(\"抱歉你未获得积分\")"
   ]
  },
  {
   "cell_type": "code",
   "execution_count": 26,
   "id": "ec8694dd-f563-4cd2-b127-f7dc4c22eb24",
   "metadata": {},
   "outputs": [
    {
     "name": "stdout",
     "output_type": "stream",
     "text": [
      "请先注册账号\n"
     ]
    }
   ],
   "source": [
    "#管理员招呼\n",
    "user = ['admin','bob','alice','Willian']\n",
    "username = 'admin'\n",
    "if user == []:\n",
    "    print('We need to find some users!')\n",
    "else:\n",
    "    if username not in user:\n",
    "        print('请先注册账号')\n",
    "    else:\n",
    "        if username == 'admin':\n",
    "            print('Hello admin, would you like to see a status report?')\n",
    "        else:\n",
    "            print('Hello ' + username, 'thank you for logging in again')\n"
   ]
  },
  {
   "cell_type": "code",
   "execution_count": 40,
   "id": "d3e57b7c-330e-4bf9-9be0-f29cd7d3ac23",
   "metadata": {},
   "outputs": [
    {
     "name": "stdout",
     "output_type": "stream",
     "text": [
      "用户名:User4已存在，请输入其他用户名\n",
      "用户名:user5已存在，请输入其他用户名\n",
      "用户名:user6未被使用\n",
      "用户名:user7未被使用\n",
      "用户名:user8未被使用\n"
     ]
    }
   ],
   "source": [
    "#网站登录逻辑\n",
    "current_users = ['user1','user2','user3','user4','user5']\n",
    "new_users = ['User4','user5','user6','user7','user8']\n",
    "current_users_lower = [value.lower() for value in current_users]\n",
    "for list in new_users:\n",
    "    if list.lower() in current_users_lower:\n",
    "        print('用户名:' + list +'已存在，请输入其他用户名')\n",
    "    else:\n",
    "        print('用户名:' + list +'未被使用')"
   ]
  },
  {
   "cell_type": "code",
   "execution_count": null,
   "id": "302ce1b7-dda5-47ad-95b4-ac58a524d3ac",
   "metadata": {},
   "outputs": [],
   "source": []
  }
 ],
 "metadata": {
  "kernelspec": {
   "display_name": "\"Python/Mu (mu_venv-38-20250423-142819)\"",
   "language": "python",
   "name": "mu_venv-38-20250423-142819"
  },
  "language_info": {
   "codemirror_mode": {
    "name": "ipython",
    "version": 3
   },
   "file_extension": ".py",
   "mimetype": "text/x-python",
   "name": "python",
   "nbconvert_exporter": "python",
   "pygments_lexer": "ipython3",
   "version": "3.8.12"
  }
 },
 "nbformat": 4,
 "nbformat_minor": 5
}
