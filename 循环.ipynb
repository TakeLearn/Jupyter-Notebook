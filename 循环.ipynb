{
 "cells": [
  {
   "cell_type": "code",
   "execution_count": 5,
   "id": "16ba2e98-0680-453e-b77c-9affb6d35b0b",
   "metadata": {},
   "outputs": [
    {
     "name": "stdout",
     "output_type": "stream",
     "text": [
      "1\n",
      "3\n",
      "5\n",
      "7\n",
      "9\n"
     ]
    }
   ],
   "source": [
    "current_number = 0 \n",
    "while current_number < 10: \n",
    " current_number += 1 \n",
    " if current_number % 2 == 0: \n",
    "  continue \n",
    " \n",
    " print(current_number)"
   ]
  },
  {
   "cell_type": "code",
   "execution_count": 7,
   "id": "c4691a88-9ad4-4fda-8897-7cc6117a646c",
   "metadata": {},
   "outputs": [
    {
     "name": "stdout",
     "output_type": "stream",
     "text": [
      "Verifying user: Candace\n",
      "Verifying user: Brian\n",
      "Verifying user: Alice\n",
      "\n",
      "The following users have been confirmed:\n",
      "Candace\n",
      "Brian\n",
      "Alice\n"
     ]
    }
   ],
   "source": [
    "unconfirmed_users = ['alice', 'brian', 'candace'] \n",
    "confirmed_users = [] \n",
    "# 验证每个用户，直到没有未验证用户为止\n",
    "# 将每个经过验证的列表都移到已验证用户列表中\n",
    "while unconfirmed_users: \n",
    " current_user = unconfirmed_users.pop() \n",
    " \n",
    " print(\"Verifying user: \" + current_user.title()) \n",
    " confirmed_users.append(current_user) \n",
    " \n",
    "# 显示所有已验证的用户\n",
    "print(\"\\nThe following users have been confirmed:\") \n",
    "for confirmed_user in confirmed_users: \n",
    " print(confirmed_user.title()) "
   ]
  },
  {
   "cell_type": "code",
   "execution_count": 9,
   "id": "6b58b6d4-0ec1-4ae3-aba7-688c681c50de",
   "metadata": {},
   "outputs": [
    {
     "name": "stdout",
     "output_type": "stream",
     "text": [
      "1\n",
      "2\n"
     ]
    }
   ],
   "source": [
    "unconfirmed_users = ['brian', 'candace'] \n",
    "i = 0\n",
    "while unconfirmed_users: \n",
    "    current_user = unconfirmed_users.pop()\n",
    "    i += 1\n",
    "    print(i)"
   ]
  },
  {
   "cell_type": "code",
   "execution_count": 22,
   "id": "1a5221d8-f2fe-4fce-a5ac-4c4e644e718f",
   "metadata": {},
   "outputs": [
    {
     "name": "stdout",
     "output_type": "stream",
     "text": [
      "I made your pastrami sandwich.\n",
      "I made your pastrami sandwich.\n",
      "I made your salmon sandwich.\n",
      "I made your pastrami sandwich.\n",
      "I made your Zhang Dongxue sandwich.\n",
      "I made your Tim sandwich.\n",
      "['pastrami', 'salmon', 'pastrami', 'Zhang Dongxue', 'Tim']\n"
     ]
    }
   ],
   "source": [
    "#熟食店联系\n",
    "sandwich_orders = ['Tim' , 'Zhang Dongxue' , 'pastrami' , 'salmon' , 'pastrami' , 'pastrami']\n",
    "finished_sandwiches = []\n",
    "while sandwich_orders:\n",
    "    sandwich_order = sandwich_orders.pop()\n",
    "    print(\"I made your \" + sandwich_order + \" sandwich.\")\n",
    "    finished_sandwiches.append(sandwich_order)\n",
    "finished_sandwiches.remove('pastrami')\n",
    "print(finished_sandwiches)"
   ]
  },
  {
   "cell_type": "code",
   "execution_count": 2,
   "id": "c5a361f7-cd14-4952-845b-8caf43e1459d",
   "metadata": {},
   "outputs": [
    {
     "name": "stdout",
     "output_type": "stream",
     "text": [
      "Sorry bro,the pastrami have been salt.\n",
      "['Tim', 'Zhang Dongxue', 'salmon']\n"
     ]
    }
   ],
   "source": [
    "#五香烟熏牛肉(pastrami)\n",
    "print('Sorry bro,the pastrami have been salt.')\n",
    "while 'pastrami' in sandwich_orders:\n",
    "    sandwich_orders.remove('pastrami')\n",
    "print(sandwich_orders)"
   ]
  }
 ],
 "metadata": {
  "kernelspec": {
   "display_name": "\"Python/Mu (mu_venv-38-20250423-142819)\"",
   "language": "python",
   "name": "mu_venv-38-20250423-142819"
  },
  "language_info": {
   "codemirror_mode": {
    "name": "ipython",
    "version": 3
   },
   "file_extension": ".py",
   "mimetype": "text/x-python",
   "name": "python",
   "nbconvert_exporter": "python",
   "pygments_lexer": "ipython3",
   "version": "3.8.12"
  }
 },
 "nbformat": 4,
 "nbformat_minor": 5
}
