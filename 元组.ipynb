{
 "cells": [
  {
   "cell_type": "code",
   "execution_count": 1,
   "id": "40c1533c-13f1-4ff4-8d9c-61f4b085d8a3",
   "metadata": {},
   "outputs": [
    {
     "name": "stdout",
     "output_type": "stream",
     "text": [
      "Orignal dimensions:\n",
      "200\n",
      "50\n",
      "\n",
      "Modified dimentions:\n",
      "400\n",
      "100\n"
     ]
    }
   ],
   "source": [
    "dimensions = (200,50)\n",
    "print(\"Orignal dimensions:\")\n",
    "for dimension in dimensions:\n",
    "    print(dimension)\n",
    "\n",
    "dimentions = (400,100)\n",
    "print(\"\\nModified dimentions:\")\n",
    "for dimension in dimentions:\n",
    "    print(dimension)"
   ]
  },
  {
   "cell_type": "code",
   "execution_count": 5,
   "id": "aa3434d6-c436-4102-b134-654b88bfcc76",
   "metadata": {},
   "outputs": [
    {
     "name": "stdout",
     "output_type": "stream",
     "text": [
      "披萨\n",
      "薯条\n",
      "汉堡\n",
      "沙拉\n",
      "火锅\n"
     ]
    }
   ],
   "source": [
    "#元组训练\n",
    "foods = ('披萨','薯条','汉堡','沙拉','火锅')\n",
    "for food in foods:\n",
    "    print(food)"
   ]
  },
  {
   "cell_type": "markdown",
   "id": "7e00e853-e5e6-48af-90fd-7a5e0b92cafe",
   "metadata": {},
   "source": [
    "#设置代码格式\n",
    "```python\n",
    "print('hello world')\n",
    "```\n",
    "```c\n",
    "#include <stdio.h>\n",
    "int main(){\n",
    "    printf(\"hello word\")\n",
    "}"
   ]
  },
  {
   "cell_type": "code",
   "execution_count": null,
   "id": "e72eefbe-8c24-47c4-a35f-94782d13799e",
   "metadata": {},
   "outputs": [],
   "source": []
  }
 ],
 "metadata": {
  "kernelspec": {
   "display_name": "\"Python/Mu (mu_venv-38-20250423-142819)\"",
   "language": "python",
   "name": "mu_venv-38-20250423-142819"
  },
  "language_info": {
   "codemirror_mode": {
    "name": "ipython",
    "version": 3
   },
   "file_extension": ".py",
   "mimetype": "text/x-python",
   "name": "python",
   "nbconvert_exporter": "python",
   "pygments_lexer": "ipython3",
   "version": "3.8.12"
  }
 },
 "nbformat": 4,
 "nbformat_minor": 5
}
