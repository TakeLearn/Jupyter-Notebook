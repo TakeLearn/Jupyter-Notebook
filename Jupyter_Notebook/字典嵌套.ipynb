{
 "cells": [
  {
   "cell_type": "code",
   "execution_count": 1,
   "id": "91e46afa-549b-4a94-a51c-dc785094cfda",
   "metadata": {},
   "outputs": [
    {
     "name": "stdout",
     "output_type": "stream",
     "text": [
      "{'color': 'green', 'points': 5}\n",
      "{'color': 'yellow', 'points': 10}\n",
      "{'color': 'red', 'points': 15}\n"
     ]
    }
   ],
   "source": [
    "alien_0 = {'color':'green','points': 5}\n",
    "alien_1 = {'color':'yellow','points': 10}\n",
    "alien_2 = {'color':'red','points': 15}\n",
    "\n",
    "aliens = [alien_0 , alien_1 , alien_2]\n",
    "for alien in aliens:\n",
    "    print(alien)"
   ]
  },
  {
   "cell_type": "code",
   "execution_count": 3,
   "id": "0d5f1d77-64e2-44b5-8bae-bf39e7f94d32",
   "metadata": {},
   "outputs": [
    {
     "name": "stdout",
     "output_type": "stream",
     "text": [
      "{'color': 'green', 'points': 5, 'speed': 'slow'}\n",
      "{'color': 'green', 'points': 5, 'speed': 'slow'}\n",
      "{'color': 'green', 'points': 5, 'speed': 'slow'}\n",
      "{'color': 'green', 'points': 5, 'speed': 'slow'}\n",
      "{'color': 'green', 'points': 5, 'speed': 'slow'}\n",
      "...\n",
      "Total number of aliens:30\n"
     ]
    }
   ],
   "source": [
    "aliens = []\n",
    "for alien_number in range(30):\n",
    "    new_alien = {'color':'green','points':5,'speed':'slow'}\n",
    "    aliens.append(new_alien)\n",
    "for alien in aliens[:5]:\n",
    "    print(alien)\n",
    "print(\"...\")\n",
    "\n",
    "#显示创建了多少个外星人\n",
    "print(\"Total number of aliens:\" + str(len(aliens)))"
   ]
  },
  {
   "cell_type": "code",
   "execution_count": 5,
   "id": "195d5c28-a862-418e-9dc3-60dbf6b132a2",
   "metadata": {},
   "outputs": [
    {
     "name": "stdout",
     "output_type": "stream",
     "text": [
      "{'color': 'yellow', 'points': 10, 'speed': 'medium'}\n",
      "{'color': 'yellow', 'points': 10, 'speed': 'medium'}\n",
      "{'color': 'yellow', 'points': 10, 'speed': 'medium'}\n",
      "{'color': 'yellow', 'points': 10, 'speed': 'medium'}\n",
      "{'color': 'yellow', 'points': 10, 'speed': 'medium'}\n",
      "...\n"
     ]
    }
   ],
   "source": [
    "aliens = []\n",
    "for alien_number in range(30):\n",
    "    new_alien = {'color':'green','points':5,'speed':'slow'}\n",
    "    aliens.append(new_alien)\n",
    "for alien in aliens[:5]:\n",
    "    if alien['color'] == 'green':\n",
    "        alien['color'] = 'yellow'\n",
    "        alien['points'] = 10\n",
    "        alien['speed'] = 'medium'\n",
    "for alien in aliens[:5]:\n",
    "    print(alien)\n",
    "print(\"...\")"
   ]
  },
  {
   "cell_type": "code",
   "execution_count": 8,
   "id": "5138203c-cf31-486a-9c91-9ab24d3f5a64",
   "metadata": {},
   "outputs": [
    {
     "name": "stdout",
     "output_type": "stream",
     "text": [
      "You ordered a thick-crust pizza with the following toppings:\n",
      "\tmushrooms\n",
      "\textra cheese\n"
     ]
    }
   ],
   "source": [
    "pizza = { \n",
    " 'crust': 'thick', \n",
    " 'toppings': ['mushrooms', 'extra cheese'], \n",
    " } \n",
    "# 概述所点的披萨\n",
    "print(\"You ordered a \" + pizza['crust'] + \"-crust pizza \" + \"with the following toppings:\")\n",
    "for topping in pizza['toppings']:\n",
    "    print(\"\\t\" + topping)"
   ]
  },
  {
   "cell_type": "code",
   "execution_count": 14,
   "id": "c0cc921a-5d38-4cef-9955-6e9641e6b43e",
   "metadata": {},
   "outputs": [
    {
     "name": "stdout",
     "output_type": "stream",
     "text": [
      "\n",
      "Jen's favorite languages are:\n",
      "\tPython\n",
      "\tRuby\n",
      "\n",
      "Sarah's favorite languages are:\n",
      "\tC\n",
      "\n",
      "Edward's favorite languages are:\n",
      "\tRuby\n",
      "\tGo\n",
      "\n",
      "Phil's favorite languages are:\n",
      "\tPython\n",
      "\tHaskell\n"
     ]
    }
   ],
   "source": [
    "favorite_languages = { \n",
    " 'jen': ['python', 'ruby'], \n",
    " 'sarah': ['c'], \n",
    " 'edward': ['ruby', 'go'], \n",
    " 'phil': ['python', 'haskell'], \n",
    " }\n",
    "for name,languages in favorite_languages.items():\n",
    "    print(\"\\n\" + name.title() + \"'s favorite languages are:\")\n",
    "    for language in languages:\n",
    "        print(\"\\t\" + language.title())"
   ]
  },
  {
   "cell_type": "code",
   "execution_count": 15,
   "id": "eb24f6f4-93bc-4b1a-9696-a84715c96120",
   "metadata": {},
   "outputs": [
    {
     "name": "stdout",
     "output_type": "stream",
     "text": [
      "{'name': 'Alian', 'age': '18', 'location': 'Japan'}\n",
      "{'name': 'Elric', 'age': '20', 'location': 'Austira'}\n",
      "{'name': 'Li', 'age': '24', 'location': 'China'}\n"
     ]
    }
   ],
   "source": [
    "#字典练习\n",
    "user_1 = {\n",
    "    \"name\" : \"Alian\",\n",
    "    \"age\" : \"18\",\n",
    "    \"location\" : \"Japan\"\n",
    "}\n",
    "user_2 = {\n",
    "    \"name\" : \"Elric\",\n",
    "    \"age\" : \"20\",\n",
    "    \"location\" : \"Austira\"\n",
    "}\n",
    "user_3 = {\n",
    "    \"name\" : \"Li\",\n",
    "    \"age\" : \"24\",\n",
    "    \"location\" : \"China\"\n",
    "}\n",
    "people = [user_1,user_2,user_3]\n",
    "for user in people:\n",
    "    print(user)"
   ]
  },
  {
   "cell_type": "code",
   "execution_count": 18,
   "id": "b1377ef3-3e9d-4032-a036-8dc39ea69fc7",
   "metadata": {},
   "outputs": [
    {
     "name": "stdout",
     "output_type": "stream",
     "text": [
      "{'type': 'cat', 'owner': 'Make'}\n",
      "{'type': 'dog', 'owner': 'Tim'}\n"
     ]
    }
   ],
   "source": [
    "Mewo = {\n",
    "    \"type\" : 'cat',\n",
    "    'owner' : 'Make'\n",
    "}\n",
    "OerO = {\n",
    "    'type' : 'dog',\n",
    "    'owner' : 'Tim'\n",
    "}\n",
    "pets = [Mewo , OerO]\n",
    "for pet in pets:\n",
    "    print(pet)"
   ]
  },
  {
   "cell_type": "code",
   "execution_count": 21,
   "id": "386870f1-b70d-4c21-be5b-3b2220034c4e",
   "metadata": {},
   "outputs": [
    {
     "name": "stdout",
     "output_type": "stream",
     "text": [
      "Mike喜欢的地方有:\n",
      "\t大理\n",
      "\t青岛\n",
      "Tim喜欢的地方有:\n",
      "\t哈尔滨\n",
      "\t大连\n",
      "Li喜欢的地方有:\n",
      "\t冰岛\n",
      "\t亚庇\n",
      "\t仙本那\n",
      "Hu喜欢的地方有:\n",
      "\t鱼子西\n",
      "\t禾木\n"
     ]
    }
   ],
   "source": [
    "favorite_places = {\n",
    "    'Mike' : ['大理' , '青岛'],\n",
    "    'Tim' : ['哈尔滨' , '大连'],\n",
    "    'Li' : ['冰岛' , '亚庇' , '仙本那'],\n",
    "    'Hu' : ['鱼子西' , '禾木']\n",
    "}\n",
    "for name,places in favorite_places.items():\n",
    "    print(name + '喜欢的地方有:')\n",
    "    for place in places:\n",
    "        print('\\t' + place)\n"
   ]
  },
  {
   "cell_type": "code",
   "execution_count": null,
   "id": "22e6996c-bb5c-44fc-9f7f-14a44b1ae0e9",
   "metadata": {},
   "outputs": [],
   "source": []
  }
 ],
 "metadata": {
  "kernelspec": {
   "display_name": "\"Python/Mu (mu_venv-38-20250423-142819)\"",
   "language": "python",
   "name": "mu_venv-38-20250423-142819"
  },
  "language_info": {
   "codemirror_mode": {
    "name": "ipython",
    "version": 3
   },
   "file_extension": ".py",
   "mimetype": "text/x-python",
   "name": "python",
   "nbconvert_exporter": "python",
   "pygments_lexer": "ipython3",
   "version": "3.8.12"
  }
 },
 "nbformat": 4,
 "nbformat_minor": 5
}
