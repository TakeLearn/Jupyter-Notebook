{
 "cells": [
  {
   "cell_type": "code",
   "execution_count": 1,
   "id": "e5b68c48-4dd3-4b19-baaa-ec5766622b6e",
   "metadata": {},
   "outputs": [
    {
     "name": "stdout",
     "output_type": "stream",
     "text": [
      "['trek', 'cannondale', 'redline', 'specialized']\n"
     ]
    }
   ],
   "source": [
    "bicycles = ['trek', 'cannondale', 'redline', 'specialized'] \n",
    "print(bicycles)"
   ]
  },
  {
   "cell_type": "code",
   "execution_count": 3,
   "id": "33da882e-8fec-49a7-8c7d-0ced50704d86",
   "metadata": {},
   "outputs": [
    {
     "name": "stdout",
     "output_type": "stream",
     "text": [
      "redline\n"
     ]
    }
   ],
   "source": [
    "bicycles = ['trek', 'cannondale', 'redline', 'specialized'] \n",
    "print(bicycles[2])"
   ]
  },
  {
   "cell_type": "code",
   "execution_count": 4,
   "id": "adfcee5e-e918-459c-a77e-4d432aa1cdbf",
   "metadata": {},
   "outputs": [
    {
     "name": "stdout",
     "output_type": "stream",
     "text": [
      "My first bicycle was a Trek.\n"
     ]
    }
   ],
   "source": [
    "message = \"My first bicycle was a \" + bicycles[0].title() + \".\"\n",
    "print(message)"
   ]
  },
  {
   "cell_type": "code",
   "execution_count": 7,
   "id": "6e4e7560-cc59-4497-a8e8-b1f7fe38aa4d",
   "metadata": {},
   "outputs": [
    {
     "name": "stdout",
     "output_type": "stream",
     "text": [
      "['shuaishuai', 'dongxue', 'dongmei', 'ruiqiang', 'yy']\n"
     ]
    }
   ],
   "source": [
    "name = ['shuaishuai','dongxue','dongmei','ruiqiang']\n",
    "name.append('yy')\n",
    "print(name)"
   ]
  },
  {
   "cell_type": "code",
   "execution_count": 1,
   "id": "8cb94a3d-ee20-4038-bbad-e77006f342a1",
   "metadata": {},
   "outputs": [
    {
     "name": "stdout",
     "output_type": "stream",
     "text": [
      "['honda', 'yamaha', 'suzuki']\n"
     ]
    }
   ],
   "source": [
    "motorcycles = ['honda', 'yamaha', 'suzuki'] \n",
    "print(motorcycles)"
   ]
  },
  {
   "cell_type": "code",
   "execution_count": 2,
   "id": "bc9a938a-03f3-4e75-907c-7cbbafdfb6e5",
   "metadata": {},
   "outputs": [
    {
     "name": "stdout",
     "output_type": "stream",
     "text": [
      "['honda', 'yamaha']\n",
      "suzuki\n"
     ]
    }
   ],
   "source": [
    "popped_motorcycle = motorcycles.pop()\n",
    "print(motorcycles)\n",
    "print(popped_motorcycle)"
   ]
  },
  {
   "cell_type": "code",
   "execution_count": 17,
   "id": "82576701-e22d-4686-ac71-911cdb107316",
   "metadata": {},
   "outputs": [
    {
     "name": "stdout",
     "output_type": "stream",
     "text": [
      "['小王', '小李', '小胡', '小陈']\n",
      "小王无法赴约\n",
      "小王来不了\n",
      "['小李', '小胡', '小陈']\n",
      "找到了更大的餐桌\n",
      "['熙凤', '小李', '小胡', '小陈']\n",
      "['熙凤', '小李', '王潮', '小胡', '小陈', '王瑞强']\n",
      "邀请熙凤\n",
      "邀请小李\n",
      "邀请王潮\n",
      "邀请小胡\n",
      "邀请小陈\n",
      "邀请王瑞强\n",
      "因为餐桌无法及时送达\n",
      "['熙凤', '小李']\n"
     ]
    }
   ],
   "source": [
    "#嘉宾名单训练\n",
    "person = ['小王','小李','小胡','小陈']\n",
    "print(person)\n",
    "print('小王无法赴约')\n",
    "quexi = person.pop(0)\n",
    "print(quexi.title() + '来不了')\n",
    "print(person)\n",
    "print('找到了更大的餐桌')\n",
    "person.insert(0,'熙凤')\n",
    "print(person)\n",
    "person.insert(2,'王潮')\n",
    "person.append('王瑞强')\n",
    "print(person)\n",
    "print('邀请' + person[0])\n",
    "print('邀请' + person[1])\n",
    "print('邀请' + person[2])\n",
    "print('邀请' + person[3])\n",
    "print('邀请' + person[4])\n",
    "print('邀请' + person[5])\n",
    "print('因为餐桌无法及时送达')\n",
    "person.pop()\n",
    "person.pop()\n",
    "person.pop()\n",
    "person.pop()\n",
    "print(person)\n",
    "del person[]"
   ]
  },
  {
   "cell_type": "code",
   "execution_count": 30,
   "id": "b228c5dd-7b97-40e7-a1be-1da58fe4bfdc",
   "metadata": {},
   "outputs": [
    {
     "name": "stdout",
     "output_type": "stream",
     "text": [
      "['audi', 'bmw', 'subaru', 'toyota']\n",
      "['toyota', 'subaru', 'bmw', 'audi']\n"
     ]
    }
   ],
   "source": [
    "#使用sort对列表进行永久性排序\n",
    "cars = ['bmw', 'audi', 'toyota', 'subaru'] \n",
    "cars.sort()\n",
    "print(cars)\n",
    "cars.sort(reverse = True)\n",
    "print(cars)"
   ]
  },
  {
   "cell_type": "code",
   "execution_count": 33,
   "id": "14d1005b-dc4b-4ccb-86d0-756777d60a1a",
   "metadata": {},
   "outputs": [
    {
     "name": "stdout",
     "output_type": "stream",
     "text": [
      "这是原始清单：\n",
      "['bmw', 'audi', 'toyota', 'subaru']\n",
      "\n",
      "这是临时排序清单：\n",
      "['audi', 'bmw', 'subaru', 'toyota']\n",
      "\n",
      "这又是一个原始排序清单：\n",
      "['bmw', 'audi', 'toyota', 'subaru']\n"
     ]
    }
   ],
   "source": [
    "#使用sorte()对对列表进行临时性排序\n",
    "cars = ['bmw', 'audi', 'toyota', 'subaru'] \n",
    "print('这是原始清单：')\n",
    "print(cars)\n",
    "print(\"\\n这是临时排序清单：\")\n",
    "print(sorted(cars))\n",
    "print(\"\\n这又是一个原始排序清单：\")\n",
    "print(cars)"
   ]
  },
  {
   "cell_type": "code",
   "execution_count": 36,
   "id": "70bfe8de-1fdf-4913-8d80-e4ae55739b1a",
   "metadata": {},
   "outputs": [
    {
     "name": "stdout",
     "output_type": "stream",
     "text": [
      "['bmw', 'audi', 'toyota', 'subaru']\n",
      "['subaru', 'toyota', 'audi', 'bmw']\n"
     ]
    }
   ],
   "source": [
    "#倒着打印列表\n",
    "cars = ['bmw', 'audi', 'toyota', 'subaru'] \n",
    "print(cars)\n",
    "cars.reverse()\n",
    "print(cars)"
   ]
  },
  {
   "cell_type": "code",
   "execution_count": 37,
   "id": "83aee7dd-afcf-45e7-abe2-53867449509a",
   "metadata": {},
   "outputs": [
    {
     "data": {
      "text/plain": [
       "4"
      ]
     },
     "execution_count": 37,
     "metadata": {},
     "output_type": "execute_result"
    }
   ],
   "source": [
    "#确定列表的长度\n",
    "cars = ['bmw', 'audi', 'toyota', 'subaru'] \n",
    "len(cars)"
   ]
  },
  {
   "cell_type": "code",
   "execution_count": 46,
   "id": "e6bd7af2-ecff-40cd-af5d-6f731638364d",
   "metadata": {},
   "outputs": [
    {
     "name": "stdout",
     "output_type": "stream",
     "text": [
      "['大理', '亚庇', '萨武神山', '瑞士', '冰岛']\n",
      "['亚庇', '冰岛', '大理', '瑞士', '萨武神山']\n",
      "['大理', '亚庇', '萨武神山', '瑞士', '冰岛']\n",
      "['萨武神山', '瑞士', '大理', '冰岛', '亚庇']\n",
      "列表没有变化 ['大理', '亚庇', '萨武神山', '瑞士', '冰岛']\n",
      "冰岛\n"
     ]
    }
   ],
   "source": [
    "#旅游练习\n",
    "place = ['大理','亚庇','萨武神山','瑞士','冰岛']\n",
    "print(place)\n",
    "print(sorted(place))\n",
    "print(place)\n",
    "print(sorted(place,reverse = True))\n",
    "print('列表没有变化', place)\n",
    "#索引问题\n",
    "print(place[-1])"
   ]
  },
  {
   "cell_type": "code",
   "execution_count": null,
   "id": "820ab63f-73d6-4769-bd5b-886e73f8fbb0",
   "metadata": {},
   "outputs": [],
   "source": []
  }
 ],
 "metadata": {
  "kernelspec": {
   "display_name": "Python 3 (ipykernel)",
   "language": "python",
   "name": "python3"
  },
  "language_info": {
   "codemirror_mode": {
    "name": "ipython",
    "version": 3
   },
   "file_extension": ".py",
   "mimetype": "text/x-python",
   "name": "python",
   "nbconvert_exporter": "python",
   "pygments_lexer": "ipython3",
   "version": "3.12.7"
  }
 },
 "nbformat": 4,
 "nbformat_minor": 5
}
