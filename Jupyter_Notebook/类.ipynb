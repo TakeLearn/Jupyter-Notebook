{
 "cells": [
  {
   "cell_type": "code",
   "execution_count": 1,
   "id": "0c797550-7572-4f4d-8381-310d5792c0a3",
   "metadata": {},
   "outputs": [],
   "source": [
    "class Dog():\n",
    "    def __init__(self,name,age):\n",
    "        \"\"\"初始化属性name和age\"\"\"\n",
    "        self.name = name\n",
    "        self.age = age\n",
    "    def sit(self):\n",
    "        print(self.name.title() + \" is now sitting.\")\n",
    "\n",
    "    def roll_over(self):\n",
    "        \"\"\"模拟小狗被命令打滚\"\"\"\n",
    "        print(self.name.title() + \" rolled over!\")"
   ]
  },
  {
   "cell_type": "code",
   "execution_count": 2,
   "id": "9b380c5c-d80e-43cd-910e-a3ece3112f9f",
   "metadata": {},
   "outputs": [
    {
     "name": "stdout",
     "output_type": "stream",
     "text": [
      "Willie\n",
      "6\n"
     ]
    }
   ],
   "source": [
    "my_dog = Dog('willie' , 6)\n",
    "print(my_dog.name.title())\n",
    "print(str(my_dog.age))"
   ]
  },
  {
   "cell_type": "code",
   "execution_count": 4,
   "id": "89ecfaa2-cd72-40bb-9af2-f182e7861dc6",
   "metadata": {},
   "outputs": [
    {
     "name": "stdout",
     "output_type": "stream",
     "text": [
      "Willie is now sitting.\n"
     ]
    }
   ],
   "source": [
    "my_dog.sit()"
   ]
  },
  {
   "cell_type": "code",
   "execution_count": 6,
   "id": "4cb679d3-80c3-4365-8d25-8a4ccd033888",
   "metadata": {},
   "outputs": [
    {
     "name": "stdout",
     "output_type": "stream",
     "text": [
      "Willie rolled over!\n"
     ]
    }
   ],
   "source": [
    "my_dog.roll_over()"
   ]
  },
  {
   "cell_type": "code",
   "execution_count": 12,
   "id": "3d43aba7-c935-4724-8e28-956c657bbc23",
   "metadata": {},
   "outputs": [
    {
     "name": "stdout",
     "output_type": "stream",
     "text": [
      "Madown\n",
      "Chinese Food\n",
      "This restaurant name is Madown\n",
      "The Madown is openning.\n"
     ]
    }
   ],
   "source": [
    "#9-4练习\n",
    "class Restaurant():\n",
    "    def __init__(self,restaurant_name,cuisine_type):\n",
    "        self.restaurant_name = restaurant_name\n",
    "        self.cuisine_type = cuisine_type\n",
    "    def describe_restaurant(self):\n",
    "        print(\"This restaurant name is \" + self.restaurant_name.title())\n",
    "    def open_restaurant(self):\n",
    "        print(\"The \" + self.restaurant_name + \" is openning.\")\n",
    "\n",
    "my_restaurant = Restaurant(\"Madown\",\"Chinese Food\")\n",
    "print(my_restaurant.restaurant_name.title())\n",
    "print(my_restaurant.cuisine_type.title())\n",
    "my_restaurant.describe_restaurant()\n",
    "my_restaurant.open_restaurant()"
   ]
  },
  {
   "cell_type": "code",
   "execution_count": 15,
   "id": "962cce39-614c-44ff-858e-d3f61b371993",
   "metadata": {},
   "outputs": [
    {
     "name": "stdout",
     "output_type": "stream",
     "text": [
      "Xinbo\n",
      "Li\n",
      "This username is Xinbo Li.\n",
      "Good Morning,Xinbo Li.\n"
     ]
    }
   ],
   "source": [
    "class User():\n",
    "    def __init__(self,first_name,last_name):\n",
    "        self.first_name = first_name\n",
    "        self.last_name = last_name\n",
    "    def describe_user(self):\n",
    "        print(\"This username is \" + self.first_name.title() + \" \" + self.last_name.title() + \".\")\n",
    "    def greet_user(self):\n",
    "        print(\"Good Morning,\" + self.first_name.title() + \" \" + self.last_name.title() + \".\")\n",
    "\n",
    "user = User(\"XINBO\",\"LI\")\n",
    "print(user.first_name.title())\n",
    "print(user.last_name.title())\n",
    "user.describe_user()\n",
    "user.greet_user()"
   ]
  },
  {
   "cell_type": "code",
   "execution_count": 34,
   "id": "2bfc5db3-0a58-4ee1-9919-b11a55ca223a",
   "metadata": {},
   "outputs": [
    {
     "name": "stdout",
     "output_type": "stream",
     "text": [
      "2025 Subaru Outback\n",
      "This car has 23500 miles on it.\n",
      "This car has 23600 miles on it.\n"
     ]
    }
   ],
   "source": [
    "class Car():\n",
    "    def __init__(self,make,model,year):\n",
    "        self.make = make\n",
    "        self.model = model\n",
    "        self.year = year\n",
    "        self.odometer_reading = 0\n",
    "    def get_descriptive_name(self):\n",
    "        long_name = str(self.year) + ' ' + self.make + ' ' + self.model\n",
    "        return long_name.title()\n",
    "\n",
    "    def read_odometer(self):\n",
    "        print(\"This car has \" + str(self.odometer_reading) + \" miles on it.\")\n",
    "\n",
    "    def update_odometer(self,mileage):\n",
    "        if mileage >= self.odometer_reading:\n",
    "            self.odometer_reading = mileage\n",
    "        else:\n",
    "            print(\"You can't roll back an odometer!\")\n",
    "\n",
    "    def increment_odometer(self,miles):\n",
    "        self.odometer_reading += miles\n",
    "\n",
    "my_car = Car('subaru','outback',2025)\n",
    "print(my_car.get_descriptive_name())\n",
    "\n",
    "my_car.update_odometer(23500)\n",
    "my_car.read_odometer()\n",
    "\n",
    "my_car.increment_odometer(100)\n",
    "my_car.read_odometer()"
   ]
  },
  {
   "cell_type": "code",
   "execution_count": 42,
   "id": "981ddfc2-4179-4561-8c03-616c42bd2a64",
   "metadata": {},
   "outputs": [
    {
     "name": "stdout",
     "output_type": "stream",
     "text": [
      "Madown\n",
      "Chinese Food\n",
      "This restaurant name is Madown\n",
      "The Madown is openning.\n",
      "The 10 persons served.\n"
     ]
    }
   ],
   "source": [
    "#9-4练习\n",
    "class Restaurant():\n",
    "    def __init__(self,restaurant_name,cuisine_type):\n",
    "        self.restaurant_name = restaurant_name\n",
    "        self.cuisine_type = cuisine_type\n",
    "        self.number_served = 0\n",
    "\n",
    "    def set_number_served(self,people):\n",
    "        if people >= 0:\n",
    "            self.number_served += people\n",
    "        else:\n",
    "            print(\"Please check the number of persons.\")\n",
    "        print(\"The \" + str(self.number_served) + \" persons served.\")\n",
    "\n",
    "        \n",
    "    def describe_restaurant(self):\n",
    "        print(\"This restaurant name is \" + self.restaurant_name.title())\n",
    "        \n",
    "    def open_restaurant(self):\n",
    "        print(\"The \" + self.restaurant_name + \" is openning.\")\n",
    "\n",
    "my_restaurant = Restaurant(\"Madown\",\"Chinese Food\")\n",
    "print(my_restaurant.restaurant_name.title())\n",
    "print(my_restaurant.cuisine_type.title())\n",
    "my_restaurant.describe_restaurant()\n",
    "my_restaurant.open_restaurant()\n",
    "my_restaurant.set_number_served(10)"
   ]
  },
  {
   "cell_type": "code",
   "execution_count": 44,
   "id": "f37f1d87-2591-48bc-bab1-de543828a470",
   "metadata": {},
   "outputs": [
    {
     "name": "stdout",
     "output_type": "stream",
     "text": [
      "Xinbo\n",
      "Li\n",
      "This username is Xinbo Li.\n",
      "Good Morning,Xinbo Li.\n",
      "1\n",
      "2\n",
      "3\n",
      "0\n"
     ]
    }
   ],
   "source": [
    "class User():\n",
    "    def __init__(self,first_name,last_name):\n",
    "        self.first_name = first_name\n",
    "        self.last_name = last_name\n",
    "        self.login_attempts = 0\n",
    "\n",
    "    def increment_login_attempts(self):\n",
    "        self.login_attempts += 1\n",
    "        print(self.login_attempts)\n",
    "\n",
    "    def reset_login_attempts(self):\n",
    "        self.login_attempts = 0\n",
    "        print(self.login_attempts)\n",
    "        \n",
    "    def describe_user(self):\n",
    "        print(\"This username is \" + self.first_name.title() + \" \" + self.last_name.title() + \".\")\n",
    "    def greet_user(self):\n",
    "        print(\"Good Morning,\" + self.first_name.title() + \" \" + self.last_name.title() + \".\")\n",
    "\n",
    "user = User(\"XINBO\",\"LI\")\n",
    "print(user.first_name.title())\n",
    "print(user.last_name.title())\n",
    "user.describe_user()\n",
    "user.greet_user()\n",
    "user.increment_login_attempts()\n",
    "user.increment_login_attempts()\n",
    "user.increment_login_attempts()\n",
    "user.reset_login_attempts()"
   ]
  },
  {
   "cell_type": "markdown",
   "id": "96f29443-6289-4420-a588-9c9fa17d935e",
   "metadata": {},
   "source": [
    " # 9.3继承\n",
    " ### 9.3.1子类的方法__init__()"
   ]
  },
  {
   "cell_type": "code",
   "execution_count": 47,
   "id": "a262ed28-a2e1-464f-9d20-6dde009d1045",
   "metadata": {},
   "outputs": [
    {
     "name": "stdout",
     "output_type": "stream",
     "text": [
      "2016 Tesla Model S\n",
      "This car has a 70-kwh battery.\n"
     ]
    }
   ],
   "source": [
    "class Car():\n",
    "    def __init__(self,make,model,year):\n",
    "        self.make = make\n",
    "        self.model = model\n",
    "        self.year = year\n",
    "        self.odometer_reading = 0\n",
    "    def get_descriptive_name(self):\n",
    "        long_name = str(self.year) + ' ' + self.make + ' ' + self.model\n",
    "        return long_name.title()\n",
    "\n",
    "    def read_odometer(self):\n",
    "        print(\"This car has \" + str(self.odometer_reading) + \" miles on it.\")\n",
    "\n",
    "    def update_odometer(self,mileage):\n",
    "        if mileage >= self.odometer_reading:\n",
    "            self.odometer_reading = mileage\n",
    "        else:\n",
    "            print(\"You can't roll back an odometer!\")\n",
    "\n",
    "    def increment_odometer(self,miles):\n",
    "        self.odometer_reading += miles\n",
    "        \n",
    "class ElectricCar(Car):\n",
    "    def __init__(self,make,model,year):\n",
    "        super().__init__(make,model,year)\n",
    "        self.battery_size = 70\n",
    "\n",
    "    def descripe_battery(self):\n",
    "        print(\"This car has a \" + str(self.battery_size) + \"-kwh battery.\")\n",
    "\n",
    "my_tesla = ElectricCar('tesla','model s',2016)\n",
    "print(my_tesla.get_descriptive_name())\n",
    "my_tesla.descripe_battery()"
   ]
  },
  {
   "cell_type": "code",
   "execution_count": 61,
   "id": "e7168f5e-c9c3-4a2d-8c62-3c14bd8bfdf1",
   "metadata": {},
   "outputs": [
    {
     "name": "stdout",
     "output_type": "stream",
     "text": [
      "['milk', 'Vanilla']\n",
      "\n",
      "Icecream flavors:\n",
      "-milk\n",
      "-Vanilla\n"
     ]
    }
   ],
   "source": [
    "class Restaurant():\n",
    "    def __init__(self,restaurant_name,cuisine_type):\n",
    "        self.restaurant_name = restaurant_name\n",
    "        self.cuisine_type = cuisine_type\n",
    "    def describe_restaurant(self):\n",
    "        print(\"This restaurant name is \" + self.restaurant_name.title())\n",
    "    def open_restaurant(self):\n",
    "        print(\"The \" + self.restaurant_name + \" is opening.\")\n",
    "\n",
    "class IceCreamStand(Restaurant):\n",
    "    def __init__(self,restaurant_name,cuisine_type):\n",
    "        super().__init__(restaurant_name,cuisine_type)\n",
    "        self.flavors = []\n",
    "        \n",
    "    def flavors_Icecream(self,*flavors):\n",
    "        for flavor in flavors:\n",
    "            self.flavors.append(flavor)\n",
    "        print(self.flavors)\n",
    "\n",
    "    def flavors_display(self):\n",
    "        print(\"\\nIcecream flavors:\")\n",
    "        for flavor in self.flavors:\n",
    "            print(\"-\" + flavor)\n",
    "        \n",
    "my_ice_cream = IceCreamStand(\"Frosty Delights\", \"Ice Cream Parlor\")\n",
    "my_ice_cream.flavors_Icecream('milk','Vanilla')\n",
    "my_ice_cream.flavors_display()\n",
    "\n"
   ]
  },
  {
   "cell_type": "code",
   "execution_count": 66,
   "id": "7ed9ea0b-5bb7-425a-90d2-7e09855339b5",
   "metadata": {},
   "outputs": [
    {
     "name": "stdout",
     "output_type": "stream",
     "text": [
      "This username is Xinbo Li.\n",
      "\n",
      "admin privileges:\n",
      "-can add post\n",
      "-can delete post\n"
     ]
    }
   ],
   "source": [
    "class User():\n",
    "    def __init__(self,first_name,last_name):\n",
    "        self.first_name = first_name\n",
    "        self.last_name = last_name\n",
    "        self.login_attempts = 0\n",
    "\n",
    "    def increment_login_attempts(self):\n",
    "        self.login_attempts += 1\n",
    "        print(self.login_attempts)\n",
    "\n",
    "    def reset_login_attempts(self):\n",
    "        self.login_attempts = 0\n",
    "        print(self.login_attempts)\n",
    "        \n",
    "    def describe_user(self):\n",
    "        print(\"This username is \" + self.first_name.title() + \" \" + self.last_name.title() + \".\")\n",
    "    def greet_user(self):\n",
    "        print(\"Good Morning,\" + self.first_name.title() + \" \" + self.last_name.title() + \".\")\n",
    "\n",
    "class Admin(User):\n",
    "    def __init__(self,first_name,last_name):\n",
    "        super().__init__(first_name,last_name)\n",
    "        self.privileges = []\n",
    "\n",
    "    def show_privileges(self):\n",
    "        print(\"\\nadmin privileges:\")\n",
    "        for privilege in self.privileges:\n",
    "            print(\"-\" + privilege)\n",
    "\n",
    "    def add_privileges(self,*privileges):\n",
    "        for privilege in privileges:\n",
    "            self.privileges.append(privilege)\n",
    "\n",
    "admin = Admin(\"XINBO\",\"LI\")\n",
    "admin.describe_user()\n",
    "admin.add_privileges(\"can add post\",\"can delete post\")\n",
    "admin.show_privileges()"
   ]
  },
  {
   "cell_type": "code",
   "execution_count": null,
   "id": "8b0e7f87-c373-4c90-a559-a9282197d3c6",
   "metadata": {},
   "outputs": [],
   "source": []
  }
 ],
 "metadata": {
  "kernelspec": {
   "display_name": "\"Python/Mu (mu_venv-38-20250423-142819)\"",
   "language": "python",
   "name": "mu_venv-38-20250423-142819"
  },
  "language_info": {
   "codemirror_mode": {
    "name": "ipython",
    "version": 3
   },
   "file_extension": ".py",
   "mimetype": "text/x-python",
   "name": "python",
   "nbconvert_exporter": "python",
   "pygments_lexer": "ipython3",
   "version": "3.8.12"
  }
 },
 "nbformat": 4,
 "nbformat_minor": 5
}
