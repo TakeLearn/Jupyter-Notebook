{
 "cells": [
  {
   "cell_type": "code",
   "execution_count": 1,
   "id": "5e3ad030-f5bf-4c9c-82ce-f14f804da72a",
   "metadata": {},
   "outputs": [
    {
     "name": "stdout",
     "output_type": "stream",
     "text": [
      "One of my favorite books is Alice in Wonderland.\n"
     ]
    }
   ],
   "source": [
    "def favorite_book(title):\n",
    "    print(\"One of my favorite books is \" + title + '.')\n",
    "favorite_book(\"Alice in Wonderland\")"
   ]
  },
  {
   "cell_type": "code",
   "execution_count": 2,
   "id": "71cfe2c1-04fc-491d-bf96-fa30f28ced11",
   "metadata": {},
   "outputs": [
    {
     "name": "stdout",
     "output_type": "stream",
     "text": [
      "\n",
      "I have a hamster.\n",
      "My hamster's name is Harry.\n"
     ]
    }
   ],
   "source": [
    "#位置实参\n",
    "def describe_pet(animal_type, pet_name): \n",
    " \"\"\"显示宠物的信息\"\"\" \n",
    " print(\"\\nI have a \" + animal_type + \".\") \n",
    " print(\"My \" + animal_type + \"'s name is \" + pet_name.title() + \".\") \n",
    " \n",
    "describe_pet('hamster', 'harry')"
   ]
  },
  {
   "cell_type": "code",
   "execution_count": 5,
   "id": "24cda531-278c-48ea-b120-e9a179c165b8",
   "metadata": {},
   "outputs": [
    {
     "name": "stdout",
     "output_type": "stream",
     "text": [
      "Santiago,Chile\n",
      "Tokyo,Japan\n",
      "Chengdu,China\n"
     ]
    }
   ],
   "source": [
    "def city_country(city,country):\n",
    "    print(city + ',' + country)\n",
    "city_country('Santiago','Chile')\n",
    "city_country('Tokyo','Japan')\n",
    "city_country('Chengdu','China')"
   ]
  },
  {
   "cell_type": "code",
   "execution_count": 3,
   "id": "60918312-e944-4d02-8da7-53e781650f1e",
   "metadata": {},
   "outputs": [
    {
     "name": "stdin",
     "output_type": "stream",
     "text": [
      "Please input singer-name. Eason\n",
      "Please input album-name. Red Rose\n",
      "Please input album number 1\n",
      "Do you want to quit? You can input yes or no. yes\n"
     ]
    },
    {
     "name": "stdout",
     "output_type": "stream",
     "text": [
      "[{'singer': 'Eason', 'album': 'Red Rose', 'number': '1'}]\n"
     ]
    }
   ],
   "source": [
    "#专辑训练\n",
    "def make_album(singerName,albumName,num = ''):\n",
    "    album = {\n",
    "        'singer' : singerName,\n",
    "        'album' : albumName,\n",
    "        'number' : num\n",
    "    }\n",
    "    return album\n",
    "album_list = []\n",
    "album_active = True\n",
    "while album_active:\n",
    "    singerName = input(\"Please input singer-name.\")\n",
    "    albumName = input(\"Please input album-name.\")\n",
    "    num = input(\"Please input album number\")\n",
    "    album_list.append(make_album(singerName,albumName,num))\n",
    "    active_quit = input(\"Do you want to quit? You can input yes or no.\")\n",
    "    active_quit = active_quit.lower()\n",
    "    if active_quit == 'yes':\n",
    "        break\n",
    "    elif active_quit != 'no':\n",
    "        print(\"Vaild input!\")    \n",
    "print(album_list)"
   ]
  },
  {
   "cell_type": "markdown",
   "id": "2e98d7cb-6777-41e7-b1e0-f8090a225679",
   "metadata": {},
   "source": [
    "```python\n",
    "#创建副本就可以使用切片法\n",
    "print_models(unprinted_designs[:], completed_models)\n",
    "```"
   ]
  },
  {
   "cell_type": "code",
   "execution_count": 4,
   "id": "e4610de7-2643-4750-889f-51000a9eca27",
   "metadata": {},
   "outputs": [
    {
     "name": "stdout",
     "output_type": "stream",
     "text": [
      "['Eric', 'Miles', 'Alen', 'Dongxue Zhang']\n"
     ]
    }
   ],
   "source": [
    "#创建魔术师列表\n",
    "def show_magicians(magicians):\n",
    "    print(magicians)\n",
    "magicians = ['Eric','Miles','Alen','Dongxue Zhang']\n",
    "show_magicians(magicians)"
   ]
  },
  {
   "cell_type": "code",
   "execution_count": 9,
   "id": "55772841-5d92-4be0-94f7-78006ea8c0c6",
   "metadata": {},
   "outputs": [
    {
     "name": "stdout",
     "output_type": "stream",
     "text": [
      "['the Great Eric', 'the Great Miles', 'the Great Alen', 'the Great Dongxue Zhang']\n",
      "['Eric', 'Miles', 'Alen', 'Dongxue Zhang']\n"
     ]
    }
   ],
   "source": [
    "def make_great(magicians):\n",
    "    for magician in magicians:\n",
    "        magicians_great.append(\"the Great \" + magician)\n",
    "magicians_great = []\n",
    "make_great(magicians)\n",
    "show_magicians(magicians_great)\n",
    "show_magicians(magicians)"
   ]
  },
  {
   "cell_type": "code",
   "execution_count": null,
   "id": "bf434099-c79b-4860-8b02-b90baf9ebe99",
   "metadata": {},
   "outputs": [],
   "source": []
  }
 ],
 "metadata": {
  "kernelspec": {
   "display_name": "\"Python/Mu (mu_venv-38-20250423-142819)\"",
   "language": "python",
   "name": "mu_venv-38-20250423-142819"
  },
  "language_info": {
   "codemirror_mode": {
    "name": "ipython",
    "version": 3
   },
   "file_extension": ".py",
   "mimetype": "text/x-python",
   "name": "python",
   "nbconvert_exporter": "python",
   "pygments_lexer": "ipython3",
   "version": "3.8.12"
  }
 },
 "nbformat": 4,
 "nbformat_minor": 5
}
