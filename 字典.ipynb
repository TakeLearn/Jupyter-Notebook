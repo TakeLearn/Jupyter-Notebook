{
 "cells": [
  {
   "cell_type": "code",
   "execution_count": 1,
   "id": "f49eaf68-9104-4fa3-9257-afe9b0f2f178",
   "metadata": {},
   "outputs": [
    {
     "name": "stdout",
     "output_type": "stream",
     "text": [
      "green\n",
      "5\n"
     ]
    }
   ],
   "source": [
    "alien_0 = {\n",
    "'color' : 'green',\n",
    "'points' : 5\n",
    "}\n",
    "print(alien_0['color'])\n",
    "print(alien_0['points'])"
   ]
  },
  {
   "cell_type": "code",
   "execution_count": 2,
   "id": "a76b1262-61fc-4f39-b0f0-75d12a145fb9",
   "metadata": {},
   "outputs": [
    {
     "name": "stdout",
     "output_type": "stream",
     "text": [
      "{'color': 'green', 'points': 5, 'x_position': 0, 'y_position': 25}\n"
     ]
    }
   ],
   "source": [
    "alien_0['x_position'] = 0\n",
    "alien_0['y_position'] = 25\n",
    "print(alien_0)"
   ]
  },
  {
   "cell_type": "code",
   "execution_count": 3,
   "id": "e9800711-87cc-45bc-a46e-4abb666f524d",
   "metadata": {},
   "outputs": [
    {
     "name": "stdout",
     "output_type": "stream",
     "text": [
      "This alien is green.\n"
     ]
    }
   ],
   "source": [
    "alien_0 = {'color' : 'green'}\n",
    "print(\"This alien is \" + alien_0['color'] + '.')"
   ]
  },
  {
   "cell_type": "code",
   "execution_count": 5,
   "id": "e771bf4a-da0b-4ff7-bab1-c19a201deb71",
   "metadata": {},
   "outputs": [
    {
     "name": "stdout",
     "output_type": "stream",
     "text": [
      "This alien is now yellow.\n"
     ]
    }
   ],
   "source": [
    "alien_0['color'] = 'yellow'\n",
    "print(\"This alien is now \" + alien_0['color'] + '.')"
   ]
  },
  {
   "cell_type": "code",
   "execution_count": 10,
   "id": "cda1356e-6f88-459f-aaf2-7f10c87abc08",
   "metadata": {},
   "outputs": [
    {
     "name": "stdout",
     "output_type": "stream",
     "text": [
      "Original x-position: 0\n",
      "New x_position is 2\n"
     ]
    }
   ],
   "source": [
    "alien_0 = {'x_position': 0, 'y_position': 25, 'speed': 'medium'} \n",
    "print(\"Original x-position: \" + str(alien_0['x_position']))\n",
    "# 向右移动外星人\n",
    "# 据外星人当前速度决定将其移动多远\n",
    "if alien_0['speed'] == 'slow':\n",
    "    x_incrment = 1\n",
    "elif alien_0['speed'] == 'medium':\n",
    "    x_incrment = 2\n",
    "else:\n",
    "    x_incrment = 3\n",
    "alien_0['x_position'] = alien_0['x_position'] + x_incrment\n",
    "print(\"New x_position is \" + str(alien_0['x_position']))"
   ]
  },
  {
   "cell_type": "code",
   "execution_count": 13,
   "id": "90a86dd0-1fa6-42f1-a46a-12b99982aebc",
   "metadata": {},
   "outputs": [
    {
     "name": "stdout",
     "output_type": "stream",
     "text": [
      "{'color': 'green', 'points': 5}\n",
      "{'color': 'green'}\n"
     ]
    }
   ],
   "source": [
    "alien_0 = {'color': 'green', 'points': 5} \n",
    "print(alien_0)\n",
    "del alien_0['points']\n",
    "print(alien_0)"
   ]
  },
  {
   "cell_type": "code",
   "execution_count": 16,
   "id": "2912833f-0ee6-44fa-84e1-85325ccd8c31",
   "metadata": {},
   "outputs": [
    {
     "name": "stdout",
     "output_type": "stream",
     "text": [
      "Sarah's favorite language is C.\n"
     ]
    }
   ],
   "source": [
    "favorite_languages = { \n",
    " 'jen': 'python', \n",
    " 'sarah': 'c', \n",
    " 'edward': 'ruby', \n",
    " 'phil': 'python', \n",
    " }\n",
    "print(\"Sarah's favorite language is \" + favorite_languages['sarah'].title() + \".\")"
   ]
  },
  {
   "cell_type": "code",
   "execution_count": 17,
   "id": "352ff642-b248-4c9c-b9a9-6edf27a95841",
   "metadata": {},
   "outputs": [
    {
     "name": "stdout",
     "output_type": "stream",
     "text": [
      "{'LastName': 'Elen', 'FirstName': 'Li', 'city': 'Austria', 'age': 24}\n"
     ]
    }
   ],
   "source": [
    "person = {\n",
    "    'LastName':'Elen',\n",
    "    'FirstName':'Li',\n",
    "    'city':'Austria',\n",
    "    'age':24\n",
    "}\n",
    "print(person)"
   ]
  },
  {
   "cell_type": "markdown",
   "id": "b8751851-cfdb-41b4-99bb-70488d2e5f53",
   "metadata": {},
   "source": [
    "#字典的遍历"
   ]
  },
  {
   "cell_type": "code",
   "execution_count": 24,
   "id": "67451d0f-3367-4d78-9051-89e284a81fb7",
   "metadata": {},
   "outputs": [
    {
     "name": "stdout",
     "output_type": "stream",
     "text": [
      "\n",
      "key:username\n",
      "value:efermi\n",
      "\n",
      "key:first\n",
      "value:enrico\n",
      "\n",
      "key:last\n",
      "value:fermi\n"
     ]
    }
   ],
   "source": [
    "#items的用法\n",
    "user_0 = { \n",
    " 'username': 'efermi', \n",
    " 'first': 'enrico', \n",
    " 'last': 'fermi', \n",
    " }\n",
    "for key,value in user_0.items():\n",
    "    print('\\nkey:' + key)\n",
    "    print('value:' + value)"
   ]
  },
  {
   "cell_type": "code",
   "execution_count": 28,
   "id": "39b9ac89-5e2e-44ba-9a45-c5bab77b631d",
   "metadata": {},
   "outputs": [
    {
     "name": "stdout",
     "output_type": "stream",
     "text": [
      "Jen\n",
      "Sarah\n",
      "Edward\n",
      "Phil\n"
     ]
    }
   ],
   "source": [
    "#key的用法\n",
    "favorite_languages = { \n",
    " 'jen': 'python', \n",
    " 'sarah': 'c', \n",
    " 'edward': 'ruby', \n",
    " 'phil': 'python', \n",
    " }\n",
    "for name in favorite_languages.keys():\n",
    "    print(name.title())"
   ]
  },
  {
   "cell_type": "code",
   "execution_count": 29,
   "id": "6984a812-0f2d-457f-8efa-6fdfacdb5b82",
   "metadata": {},
   "outputs": [
    {
     "name": "stdout",
     "output_type": "stream",
     "text": [
      "Edward, thank you for taking the poll.\n",
      "Jen, thank you for taking the poll.\n",
      "Phil, thank you for taking the poll.\n",
      "Sarah, thank you for taking the poll.\n"
     ]
    }
   ],
   "source": [
    "for name in sorted(favorite_languages.keys()):\n",
    "    print(name.title() + \", thank you for taking the poll.\")"
   ]
  },
  {
   "cell_type": "code",
   "execution_count": 30,
   "id": "96ee6542-e8dd-4357-a6f1-11d5143af015",
   "metadata": {},
   "outputs": [
    {
     "name": "stdout",
     "output_type": "stream",
     "text": [
      "The following languages have been mentioned:\n",
      "Python\n",
      "C\n",
      "Ruby\n",
      "Python\n"
     ]
    }
   ],
   "source": [
    "print(\"The following languages have been mentioned:\")\n",
    "for languages in favorite_languages.values():\n",
    "    print(languages.title())"
   ]
  },
  {
   "cell_type": "code",
   "execution_count": 32,
   "id": "6e2d4524-0540-4368-a90d-75c446a9254d",
   "metadata": {},
   "outputs": [
    {
     "name": "stdout",
     "output_type": "stream",
     "text": [
      "C\n",
      "Python\n",
      "Ruby\n"
     ]
    }
   ],
   "source": [
    "#遍历字典的值避免重复\n",
    "for languages in set(favorite_languages.values()):\n",
    "    print(languages.title())"
   ]
  },
  {
   "cell_type": "code",
   "execution_count": 34,
   "id": "21f5c6ff-1cea-41fa-a165-f84543712e52",
   "metadata": {},
   "outputs": [
    {
     "name": "stdout",
     "output_type": "stream",
     "text": [
      "The yangzi river runs through China\n",
      "The nile runs through egypt\n",
      "The Messipi runs through Amercian\n"
     ]
    }
   ],
   "source": [
    "#字典训练\n",
    "river = {\n",
    "    'yangzi river':'China',\n",
    "    'nile':'egypt',\n",
    "    'Messipi':'Amercian'\n",
    "}\n",
    "for key,value in river.items():\n",
    "    print(\"The \" + key + \" runs through \" + value)"
   ]
  },
  {
   "cell_type": "code",
   "execution_count": 36,
   "id": "6e58fa69-5a7e-498c-be9d-8aa683647e80",
   "metadata": {},
   "outputs": [
    {
     "name": "stdout",
     "output_type": "stream",
     "text": [
      "yangzi river\n",
      "nile\n",
      "Messipi\n"
     ]
    }
   ],
   "source": [
    "for key in river.keys():\n",
    "    print(key)"
   ]
  },
  {
   "cell_type": "code",
   "execution_count": 37,
   "id": "365bd2a6-d1c1-4183-ae80-a07918b59a74",
   "metadata": {},
   "outputs": [
    {
     "name": "stdout",
     "output_type": "stream",
     "text": [
      "China\n",
      "egypt\n",
      "Amercian\n"
     ]
    }
   ],
   "source": [
    "for value in river.values():\n",
    "    print(value)"
   ]
  },
  {
   "cell_type": "code",
   "execution_count": 38,
   "id": "70713150-3a98-43c5-ac96-5279360c842b",
   "metadata": {},
   "outputs": [
    {
     "name": "stdout",
     "output_type": "stream",
     "text": [
      "Thanks for your reply,jen.\n",
      "Thanks for your reply,sarah.\n",
      "Deer Li,please take this results.\n",
      "Deer ElecK,please take this results.\n"
     ]
    }
   ],
   "source": [
    "favorite_languages = { \n",
    " 'jen': 'python', \n",
    " 'sarah': 'c', \n",
    " 'edward': 'ruby', \n",
    " 'phil': 'python', \n",
    " }\n",
    "namelist = ['jen','sarah','Li','ElecK']\n",
    "for name in namelist:\n",
    "    if name in favorite_languages.keys():\n",
    "        print(\"Thanks for your reply,\" + name + '.')\n",
    "    else:\n",
    "        print(\"Deer \" + name + \",please take this results.\")"
   ]
  }
 ],
 "metadata": {
  "kernelspec": {
   "display_name": "\"Python/Mu (mu_venv-38-20250423-142819)\"",
   "language": "python",
   "name": "mu_venv-38-20250423-142819"
  },
  "language_info": {
   "codemirror_mode": {
    "name": "ipython",
    "version": 3
   },
   "file_extension": ".py",
   "mimetype": "text/x-python",
   "name": "python",
   "nbconvert_exporter": "python",
   "pygments_lexer": "ipython3",
   "version": "3.8.12"
  }
 },
 "nbformat": 4,
 "nbformat_minor": 5
}
