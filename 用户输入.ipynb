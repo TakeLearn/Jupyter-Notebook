{
 "cells": [
  {
   "cell_type": "code",
   "execution_count": 1,
   "id": "4f283e78-3741-41b6-97fe-b466d6e0fe68",
   "metadata": {},
   "outputs": [
    {
     "name": "stdin",
     "output_type": "stream",
     "text": [
      "Tell me something, and I will repeat it back to you:  Hi,I love you baby.\n"
     ]
    },
    {
     "name": "stdout",
     "output_type": "stream",
     "text": [
      "Hi,I love you baby.\n"
     ]
    }
   ],
   "source": [
    "message = input(\"Tell me something, and I will repeat it back to you: \") \n",
    "print(message)"
   ]
  },
  {
   "cell_type": "code",
   "execution_count": 2,
   "id": "7e748b7c-e99d-4347-9707-d7eb119ef0bf",
   "metadata": {},
   "outputs": [
    {
     "name": "stdin",
     "output_type": "stream",
     "text": [
      "Please enter your name:  Eric\n"
     ]
    },
    {
     "name": "stdout",
     "output_type": "stream",
     "text": [
      "Hello, Eric!\n"
     ]
    }
   ],
   "source": [
    "name = input(\"Please enter your name: \")\n",
    "print(\"Hello, \" + name + \"!\")"
   ]
  },
  {
   "cell_type": "code",
   "execution_count": 3,
   "id": "76f296bc-1edf-41b3-9367-5330a5c90448",
   "metadata": {},
   "outputs": [
    {
     "name": "stdin",
     "output_type": "stream",
     "text": [
      "If you tell us who you are, we can personalize the messages you see.\n",
      "What is your first name? Eric\n"
     ]
    },
    {
     "name": "stdout",
     "output_type": "stream",
     "text": [
      "Hello, Eric!\n"
     ]
    }
   ],
   "source": [
    "prompt = \"If you tell us who you are, we can personalize the messages you see.\" \n",
    "prompt += \"\\nWhat is your first name?\"\n",
    "\n",
    "name = input(prompt)\n",
    "print(\"Hello, \" + name + \"!\")"
   ]
  },
  {
   "cell_type": "code",
   "execution_count": 5,
   "id": "5edcc47f-c13d-4713-b75d-224399778210",
   "metadata": {},
   "outputs": [
    {
     "name": "stdin",
     "output_type": "stream",
     "text": [
      "Which car do you want to buy? subaru\n"
     ]
    },
    {
     "name": "stdout",
     "output_type": "stream",
     "text": [
      "Let me see if I can find you a Subaru\n"
     ]
    }
   ],
   "source": [
    "#汽车租赁\n",
    "car = input(\"Which car do you want to buy?\")\n",
    "print(\"Let me see if I can find you a \" + car.title())"
   ]
  },
  {
   "cell_type": "code",
   "execution_count": 10,
   "id": "db089e0c-9fee-45e1-836f-01c760cf2a25",
   "metadata": {},
   "outputs": [
    {
     "name": "stdin",
     "output_type": "stream",
     "text": [
      "How many people have dinner togther? 8\n"
     ]
    },
    {
     "name": "stdout",
     "output_type": "stream",
     "text": [
      "Welcome!\n"
     ]
    }
   ],
   "source": [
    "#餐厅订位\n",
    "person_num = input(\"How many people have dinner togther?\")\n",
    "person_num = int(person_num)\n",
    "if person_num > 8 :\n",
    "    print(\"Sorry,We don't have empty desk.\")\n",
    "else:\n",
    "    print(\"Welcome!\")"
   ]
  },
  {
   "cell_type": "code",
   "execution_count": 14,
   "id": "711cbc50-b00c-4b15-8abf-1fbe2deaef24",
   "metadata": {},
   "outputs": [
    {
     "name": "stdin",
     "output_type": "stream",
     "text": [
      "Please give me a lucky number. 10\n"
     ]
    },
    {
     "name": "stdout",
     "output_type": "stream",
     "text": [
      "Congruation! You are prety lucky!\n"
     ]
    }
   ],
   "source": [
    "#10的整数倍\n",
    "num = input(\"Please give me a lucky number.\")\n",
    "num = int(num)\n",
    "if num % 10 == 0 :\n",
    "    print(\"Congruation! You are prety lucky!\")\n",
    "else:\n",
    "    print(\"Sorry,God bless you!\")"
   ]
  },
  {
   "cell_type": "code",
   "execution_count": null,
   "id": "0829e7a2-b8c5-4654-b734-94cc4bf42123",
   "metadata": {},
   "outputs": [],
   "source": []
  }
 ],
 "metadata": {
  "kernelspec": {
   "display_name": "\"Python/Mu (mu_venv-38-20250423-142819)\"",
   "language": "python",
   "name": "mu_venv-38-20250423-142819"
  },
  "language_info": {
   "codemirror_mode": {
    "name": "ipython",
    "version": 3
   },
   "file_extension": ".py",
   "mimetype": "text/x-python",
   "name": "python",
   "nbconvert_exporter": "python",
   "pygments_lexer": "ipython3",
   "version": "3.8.12"
  }
 },
 "nbformat": 4,
 "nbformat_minor": 5
}
